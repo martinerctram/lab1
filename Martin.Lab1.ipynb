{
 "cells": [
  {
   "cell_type": "code",
   "execution_count": 5,
   "metadata": {
    "collapsed": false
   },
   "outputs": [
    {
     "name": "stdout",
     "output_type": "stream",
     "text": [
      "('The coefficient of linear expansion is', 1.7228309558266145e-05, 'and the error is', 1.5962962826045274e-07)\n"
     ]
    }
   ],
   "source": [
    "import numpy as np\n",
    "\n",
    "# delT= Temperature final - Temperature initial (Tf-Ti respectivaly)\n",
    "def deltaT(Ti,Tf):\n",
    "    delT=Tf-Ti\n",
    "    return delT\n",
    "\n",
    "# delL= Difference in length, L = Original Length\n",
    "def coeff(delL,L,delT):\n",
    "    a= delL/(L*delT)\n",
    "    return a\n",
    "\n",
    "# edelT= error of delta T, eTi= error in inital Temp, eTf= error in final Temp\n",
    "def rule3(eTi,eTf):\n",
    "    edelT=np.sqrt(eTf**2+eTi**2)\n",
    "    return edelT\n",
    "\n",
    "# ea = error in coefficient of linear expansion, eL= error in length edelL= error on delta L \n",
    "def rule4(eL,edelT,edelL,L,delT,delL):\n",
    "    ea= np.sqrt((edelL/delL)**2+(eL/L)**2+(edelT/delT)**2)\n",
    "    return ea\n",
    "\n",
    "L=1.05 \n",
    "eL=0.001 \n",
    "delL=0.00125 \n",
    "edelL=0.00001 \n",
    "Ti=23.4 \n",
    "Tf=92.5 \n",
    "eTi=0.3 \n",
    "eTf=0.1\n",
    "\n",
    "difference_T=deltaT(Ti,Tf)\n",
    "alpha = coeff(delL,L,difference_T)\n",
    "error_T=rule3(eTi,eTf)\n",
    "error_alpha=alpha*rule4(eL,error_T,edelL,L,difference_T,delL)\n",
    "print(\"The coefficient of linear expansion is\",alpha,\"and the error is\",error_alpha)\n"
   ]
  },
  {
   "cell_type": "code",
   "execution_count": null,
   "metadata": {
    "collapsed": true
   },
   "outputs": [],
   "source": []
  },
  {
   "cell_type": "code",
   "execution_count": null,
   "metadata": {
    "collapsed": true
   },
   "outputs": [],
   "source": []
  }
 ],
 "metadata": {
  "kernelspec": {
   "display_name": "Python 2",
   "language": "python",
   "name": "python2"
  },
  "language_info": {
   "codemirror_mode": {
    "name": "ipython",
    "version": 2
   },
   "file_extension": ".py",
   "mimetype": "text/x-python",
   "name": "python",
   "nbconvert_exporter": "python",
   "pygments_lexer": "ipython2",
   "version": "2.7.13"
  }
 },
 "nbformat": 4,
 "nbformat_minor": 2
}
